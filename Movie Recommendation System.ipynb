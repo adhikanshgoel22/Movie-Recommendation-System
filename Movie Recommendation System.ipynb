{
 "cells": [
  {
   "cell_type": "markdown",
   "id": "91254dff",
   "metadata": {
    "papermill": {
     "duration": 0.007329,
     "end_time": "2025-04-12T16:05:06.583998",
     "exception": false,
     "start_time": "2025-04-12T16:05:06.576669",
     "status": "completed"
    },
    "tags": []
   },
   "source": [
    "# IMPORT LIBRARY"
   ]
  },
  {
   "cell_type": "code",
   "execution_count": 2,
   "id": "89f0d617",
   "metadata": {
    "_cell_guid": "b1076dfc-b9ad-4769-8c92-a6c4dae69d19",
    "_uuid": "8f2839f25d086af736a60e9eeb907d3b93b6e0e5",
    "execution": {
     "iopub.execute_input": "2025-04-12T16:05:06.595980Z",
     "iopub.status.busy": "2025-04-12T16:05:06.595711Z",
     "iopub.status.idle": "2025-04-12T16:05:07.405441Z",
     "shell.execute_reply": "2025-04-12T16:05:07.404504Z"
    },
    "papermill": {
     "duration": 0.817431,
     "end_time": "2025-04-12T16:05:07.407055",
     "exception": false,
     "start_time": "2025-04-12T16:05:06.589624",
     "status": "completed"
    },
    "tags": []
   },
   "outputs": [],
   "source": [
    "import pandas as pd\n",
    "import numpy as np"
   ]
  },
  {
   "cell_type": "markdown",
   "id": "73306688",
   "metadata": {
    "papermill": {
     "duration": 0.005196,
     "end_time": "2025-04-12T16:05:07.417974",
     "exception": false,
     "start_time": "2025-04-12T16:05:07.412778",
     "status": "completed"
    },
    "tags": []
   },
   "source": [
    "# EXPLORATORY DATASET"
   ]
  },
  {
   "cell_type": "markdown",
   "id": "7d2b6ad9",
   "metadata": {
    "papermill": {
     "duration": 0.005204,
     "end_time": "2025-04-12T16:05:07.428741",
     "exception": false,
     "start_time": "2025-04-12T16:05:07.423537",
     "status": "completed"
    },
    "tags": []
   },
   "source": [
    "Movies Dataset"
   ]
  },
  {
   "cell_type": "code",
   "execution_count": 3,
   "id": "86ab70ea",
   "metadata": {
    "execution": {
     "iopub.execute_input": "2025-04-12T16:05:07.440583Z",
     "iopub.status.busy": "2025-04-12T16:05:07.440170Z",
     "iopub.status.idle": "2025-04-12T16:05:07.566533Z",
     "shell.execute_reply": "2025-04-12T16:05:07.565760Z"
    },
    "papermill": {
     "duration": 0.133884,
     "end_time": "2025-04-12T16:05:07.568038",
     "exception": false,
     "start_time": "2025-04-12T16:05:07.434154",
     "status": "completed"
    },
    "tags": []
   },
   "outputs": [],
   "source": [
    "df1 = pd.read_csv(r\"C:\\Users\\Adhikansh\\Downloads\\movies.csv\")"
   ]
  },
  {
   "cell_type": "code",
   "execution_count": 4,
   "id": "9d3fe36e",
   "metadata": {
    "execution": {
     "iopub.execute_input": "2025-04-12T16:05:07.580537Z",
     "iopub.status.busy": "2025-04-12T16:05:07.580274Z",
     "iopub.status.idle": "2025-04-12T16:05:07.605028Z",
     "shell.execute_reply": "2025-04-12T16:05:07.604157Z"
    },
    "papermill": {
     "duration": 0.032432,
     "end_time": "2025-04-12T16:05:07.606500",
     "exception": false,
     "start_time": "2025-04-12T16:05:07.574068",
     "status": "completed"
    },
    "tags": []
   },
   "outputs": [
    {
     "name": "stdout",
     "output_type": "stream",
     "text": [
      "Jumlah Data : 62423\n",
      "Jumlah Fitur : 3\n",
      "Terdapat 3 Kolom Fitur pada Dataset yaitu:\n",
      "Fitur Data : ['movieId', 'title', 'genres']\n"
     ]
    },
    {
     "data": {
      "text/html": [
       "<div>\n",
       "<style scoped>\n",
       "    .dataframe tbody tr th:only-of-type {\n",
       "        vertical-align: middle;\n",
       "    }\n",
       "\n",
       "    .dataframe tbody tr th {\n",
       "        vertical-align: top;\n",
       "    }\n",
       "\n",
       "    .dataframe thead th {\n",
       "        text-align: right;\n",
       "    }\n",
       "</style>\n",
       "<table border=\"1\" class=\"dataframe\">\n",
       "  <thead>\n",
       "    <tr style=\"text-align: right;\">\n",
       "      <th></th>\n",
       "      <th>movieId</th>\n",
       "      <th>title</th>\n",
       "      <th>genres</th>\n",
       "    </tr>\n",
       "  </thead>\n",
       "  <tbody>\n",
       "    <tr>\n",
       "      <th>0</th>\n",
       "      <td>1</td>\n",
       "      <td>Toy Story (1995)</td>\n",
       "      <td>Adventure|Animation|Children|Comedy|Fantasy</td>\n",
       "    </tr>\n",
       "    <tr>\n",
       "      <th>1</th>\n",
       "      <td>2</td>\n",
       "      <td>Jumanji (1995)</td>\n",
       "      <td>Adventure|Children|Fantasy</td>\n",
       "    </tr>\n",
       "    <tr>\n",
       "      <th>2</th>\n",
       "      <td>3</td>\n",
       "      <td>Grumpier Old Men (1995)</td>\n",
       "      <td>Comedy|Romance</td>\n",
       "    </tr>\n",
       "    <tr>\n",
       "      <th>3</th>\n",
       "      <td>4</td>\n",
       "      <td>Waiting to Exhale (1995)</td>\n",
       "      <td>Comedy|Drama|Romance</td>\n",
       "    </tr>\n",
       "    <tr>\n",
       "      <th>4</th>\n",
       "      <td>5</td>\n",
       "      <td>Father of the Bride Part II (1995)</td>\n",
       "      <td>Comedy</td>\n",
       "    </tr>\n",
       "  </tbody>\n",
       "</table>\n",
       "</div>"
      ],
      "text/plain": [
       "   movieId                               title  \\\n",
       "0        1                    Toy Story (1995)   \n",
       "1        2                      Jumanji (1995)   \n",
       "2        3             Grumpier Old Men (1995)   \n",
       "3        4            Waiting to Exhale (1995)   \n",
       "4        5  Father of the Bride Part II (1995)   \n",
       "\n",
       "                                        genres  \n",
       "0  Adventure|Animation|Children|Comedy|Fantasy  \n",
       "1                   Adventure|Children|Fantasy  \n",
       "2                               Comedy|Romance  \n",
       "3                         Comedy|Drama|Romance  \n",
       "4                                       Comedy  "
      ]
     },
     "execution_count": 4,
     "metadata": {},
     "output_type": "execute_result"
    }
   ],
   "source": [
    "print('Jumlah Data :', len(df1.iloc[:,1]))\n",
    "print('Jumlah Fitur :', len(df1.iloc[1,:]))\n",
    "print(f'Terdapat {len(df1.iloc[1,:])} Kolom Fitur pada Dataset yaitu:')\n",
    "print('Fitur Data :', df1.columns.tolist()[:])\n",
    "pd.options.display.max_columns = None\n",
    "df1.head()"
   ]
  },
  {
   "cell_type": "code",
   "execution_count": 5,
   "id": "0ffc431d",
   "metadata": {
    "execution": {
     "iopub.execute_input": "2025-04-12T16:05:07.620627Z",
     "iopub.status.busy": "2025-04-12T16:05:07.620355Z",
     "iopub.status.idle": "2025-04-12T16:05:07.647765Z",
     "shell.execute_reply": "2025-04-12T16:05:07.646855Z"
    },
    "papermill": {
     "duration": 0.035771,
     "end_time": "2025-04-12T16:05:07.648980",
     "exception": false,
     "start_time": "2025-04-12T16:05:07.613209",
     "status": "completed"
    },
    "tags": []
   },
   "outputs": [
    {
     "name": "stdout",
     "output_type": "stream",
     "text": [
      "<class 'pandas.core.frame.DataFrame'>\n",
      "RangeIndex: 62423 entries, 0 to 62422\n",
      "Data columns (total 3 columns):\n",
      " #   Column   Non-Null Count  Dtype \n",
      "---  ------   --------------  ----- \n",
      " 0   movieId  62423 non-null  int64 \n",
      " 1   title    62423 non-null  object\n",
      " 2   genres   62423 non-null  object\n",
      "dtypes: int64(1), object(2)\n",
      "memory usage: 1.4+ MB\n"
     ]
    }
   ],
   "source": [
    "df1.info()"
   ]
  },
  {
   "cell_type": "code",
   "execution_count": 6,
   "id": "bd145106",
   "metadata": {
    "execution": {
     "iopub.execute_input": "2025-04-12T16:05:07.661569Z",
     "iopub.status.busy": "2025-04-12T16:05:07.661343Z",
     "iopub.status.idle": "2025-04-12T16:05:07.664758Z",
     "shell.execute_reply": "2025-04-12T16:05:07.663962Z"
    },
    "papermill": {
     "duration": 0.011166,
     "end_time": "2025-04-12T16:05:07.666071",
     "exception": false,
     "start_time": "2025-04-12T16:05:07.654905",
     "status": "completed"
    },
    "tags": []
   },
   "outputs": [],
   "source": [
    "import re\n",
    "\n",
    "def clean_title(title):\n",
    "    return re.sub(\"[^a-zA-Z0-9 ]\", \"\", title)"
   ]
  },
  {
   "cell_type": "code",
   "execution_count": 7,
   "id": "e1f9d741",
   "metadata": {
    "execution": {
     "iopub.execute_input": "2025-04-12T16:05:07.678356Z",
     "iopub.status.busy": "2025-04-12T16:05:07.678122Z",
     "iopub.status.idle": "2025-04-12T16:05:07.901734Z",
     "shell.execute_reply": "2025-04-12T16:05:07.900551Z"
    },
    "papermill": {
     "duration": 0.231202,
     "end_time": "2025-04-12T16:05:07.903188",
     "exception": false,
     "start_time": "2025-04-12T16:05:07.671986",
     "status": "completed"
    },
    "tags": []
   },
   "outputs": [
    {
     "name": "stdout",
     "output_type": "stream",
     "text": [
      "   movieId                             title  \\\n",
      "0        1                    Toy Story 1995   \n",
      "1        2                      Jumanji 1995   \n",
      "2        3             Grumpier Old Men 1995   \n",
      "3        4            Waiting to Exhale 1995   \n",
      "4        5  Father of the Bride Part II 1995   \n",
      "\n",
      "                                              genres  \n",
      "0  [Adventure, Animation, Children, Comedy, Fantasy]  \n",
      "1                     [Adventure, Children, Fantasy]  \n",
      "2                                  [Comedy, Romance]  \n",
      "3                           [Comedy, Drama, Romance]  \n",
      "4                                           [Comedy]  \n"
     ]
    }
   ],
   "source": [
    "# Pisahkan genre menggunakan pemisah '|'\n",
    "df1['genres'] = df1['genres'].str.split('|')\n",
    "\n",
    "# Bersihkan judul film\n",
    "df1['title'] = df1['title'].apply(clean_title)\n",
    "\n",
    "# Perbarui movies_data\n",
    "movies_data = df1[['movieId', 'title', 'genres']]\n",
    "\n",
    "# Mendapatkan genre unik dari semua film\n",
    "unique_genres = pd.Series([genre for genres_list in movies_data['genres'] for genre in genres_list]).unique()\n",
    "\n",
    "# Output hasil\n",
    "print(movies_data.head())"
   ]
  },
  {
   "cell_type": "code",
   "execution_count": 8,
   "id": "4a07b1ff",
   "metadata": {
    "execution": {
     "iopub.execute_input": "2025-04-12T16:05:07.917327Z",
     "iopub.status.busy": "2025-04-12T16:05:07.917057Z",
     "iopub.status.idle": "2025-04-12T16:05:07.934687Z",
     "shell.execute_reply": "2025-04-12T16:05:07.933894Z"
    },
    "papermill": {
     "duration": 0.026459,
     "end_time": "2025-04-12T16:05:07.936036",
     "exception": false,
     "start_time": "2025-04-12T16:05:07.909577",
     "status": "completed"
    },
    "tags": []
   },
   "outputs": [
    {
     "name": "stdout",
     "output_type": "stream",
     "text": [
      "Terdapat 62298 Judul Film\n",
      "Terdapat 20 Genre Film.\n",
      "Genre Film: ['Adventure' 'Animation' 'Children' 'Comedy' 'Fantasy' 'Romance' 'Drama'\n",
      " 'Action' 'Crime' 'Thriller' 'Horror' 'Mystery' 'Sci-Fi' 'IMAX'\n",
      " 'Documentary' 'War' 'Musical' 'Western' 'Film-Noir' '(no genres listed)']\n"
     ]
    }
   ],
   "source": [
    "print(f\"Terdapat {movies_data['title'].nunique()} Judul Film\")\n",
    "print(f\"Terdapat {len(unique_genres)} Genre Film.\")\n",
    "print(\"Genre Film:\", unique_genres)"
   ]
  },
  {
   "cell_type": "code",
   "execution_count": 9,
   "id": "672470d1",
   "metadata": {
    "execution": {
     "iopub.execute_input": "2025-04-12T16:05:07.949487Z",
     "iopub.status.busy": "2025-04-12T16:05:07.949207Z",
     "iopub.status.idle": "2025-04-12T16:05:08.018050Z",
     "shell.execute_reply": "2025-04-12T16:05:08.017225Z"
    },
    "papermill": {
     "duration": 0.07676,
     "end_time": "2025-04-12T16:05:08.019358",
     "exception": false,
     "start_time": "2025-04-12T16:05:07.942598",
     "status": "completed"
    },
    "tags": []
   },
   "outputs": [
    {
     "name": "stdout",
     "output_type": "stream",
     "text": [
      "Terdapat 5062 film tanpa genre.\n",
      "Setelah penghapusan, terdapat 57264 Judul Film.\n",
      "Terdapat 19 Genre Film setelah pembaruan.\n",
      "Genre Film: ['Adventure' 'Animation' 'Children' 'Comedy' 'Fantasy' 'Romance' 'Drama'\n",
      " 'Action' 'Crime' 'Thriller' 'Horror' 'Mystery' 'Sci-Fi' 'IMAX'\n",
      " 'Documentary' 'War' 'Musical' 'Western' 'Film-Noir']\n"
     ]
    }
   ],
   "source": [
    "# Periksa jumlah baris dengan '(no genres listed)'\n",
    "no_genres_count = movies_data[movies_data['genres'].apply(lambda x: '(no genres listed)' in x)].shape[0]\n",
    "print(f\"Terdapat {no_genres_count} film tanpa genre.\")\n",
    "\n",
    "# Hapus baris dengan '(no genres listed)'\n",
    "movies_data = movies_data[~movies_data['genres'].apply(lambda x: '(no genres listed)' in x)]\n",
    "\n",
    "# Perbarui daftar genre unik\n",
    "unique_genres = pd.Series([genre for genres_list in movies_data['genres'] for genre in genres_list]).unique()\n",
    "\n",
    "# Tampilkan hasil setelah penghapusan\n",
    "print(f\"Setelah penghapusan, terdapat {movies_data['title'].nunique()} Judul Film.\")\n",
    "print(f\"Terdapat {len(unique_genres)} Genre Film setelah pembaruan.\")\n",
    "print(\"Genre Film:\", unique_genres)"
   ]
  },
  {
   "cell_type": "markdown",
   "id": "ecf12696",
   "metadata": {
    "papermill": {
     "duration": 0.005847,
     "end_time": "2025-04-12T16:05:08.031640",
     "exception": false,
     "start_time": "2025-04-12T16:05:08.025793",
     "status": "completed"
    },
    "tags": []
   },
   "source": [
    "Visualisasi Dataset"
   ]
  },
  {
   "cell_type": "code",
   "execution_count": 10,
   "id": "9fd7932a",
   "metadata": {
    "execution": {
     "iopub.execute_input": "2025-04-12T16:05:08.044221Z",
     "iopub.status.busy": "2025-04-12T16:05:08.043998Z",
     "iopub.status.idle": "2025-04-12T16:05:08.452669Z",
     "shell.execute_reply": "2025-04-12T16:05:08.451812Z"
    },
    "papermill": {
     "duration": 0.416395,
     "end_time": "2025-04-12T16:05:08.453965",
     "exception": false,
     "start_time": "2025-04-12T16:05:08.037570",
     "status": "completed"
    },
    "tags": []
   },
   "outputs": [
    {
     "data": {
      "image/png": "[encoded data removed]",
      "text/plain": [
       "<Figure size 1200x600 with 1 Axes>"
      ]
     },
     "metadata": {},
     "output_type": "display_data"
    }
   ],
   "source": [
    "import pandas as pd\n",
    "import matplotlib.pyplot as plt\n",
    "\n",
    "# Menghitung jumlah film per genre\n",
    "genre_counts = pd.Series([genre for genres_list in movies_data['genres'] for genre in genres_list]).value_counts()\n",
    "\n",
    "plt.figure(figsize=(12, 6))\n",
    "genre_counts.plot(kind='bar', color='skyblue')\n",
    "plt.title('Jumlah Film per Genre', fontsize=16)\n",
    "plt.xlabel('Genre', fontsize=14)\n",
    "plt.ylabel('Jumlah Film', fontsize=14)\n",
    "plt.xticks(rotation=45, ha='right')\n",
    "plt.show()"
   ]
  },
  {
   "cell_type": "markdown",
   "id": "248e0ed6",
   "metadata": {
    "papermill": {
     "duration": 0.006426,
     "end_time": "2025-04-12T16:05:08.467769",
     "exception": false,
     "start_time": "2025-04-12T16:05:08.461343",
     "status": "completed"
    },
    "tags": []
   },
   "source": [
    "Ratings Dataset"
   ]
  },
  {
   "cell_type": "code",
   "execution_count": 12,
   "id": "25ddf07f",
   "metadata": {
    "execution": {
     "iopub.execute_input": "2025-04-12T16:05:08.481553Z",
     "iopub.status.busy": "2025-04-12T16:05:08.481285Z",
     "iopub.status.idle": "2025-04-12T16:05:22.352272Z",
     "shell.execute_reply": "2025-04-12T16:05:22.351599Z"
    },
    "papermill": {
     "duration": 13.879633,
     "end_time": "2025-04-12T16:05:22.353886",
     "exception": false,
     "start_time": "2025-04-12T16:05:08.474253",
     "status": "completed"
    },
    "tags": []
   },
   "outputs": [],
   "source": [
    "df2 = pd.read_csv(r\"C:\\Users\\Adhikansh\\Downloads\\ratings.csv\")"
   ]
  },
  {
   "cell_type": "code",
   "execution_count": 13,
   "id": "b3d16ccc",
   "metadata": {
    "execution": {
     "iopub.execute_input": "2025-04-12T16:05:22.369002Z",
     "iopub.status.busy": "2025-04-12T16:05:22.368774Z",
     "iopub.status.idle": "2025-04-12T16:05:22.380829Z",
     "shell.execute_reply": "2025-04-12T16:05:22.379877Z"
    },
    "papermill": {
     "duration": 0.020761,
     "end_time": "2025-04-12T16:05:22.382192",
     "exception": false,
     "start_time": "2025-04-12T16:05:22.361431",
     "status": "completed"
    },
    "tags": []
   },
   "outputs": [
    {
     "name": "stdout",
     "output_type": "stream",
     "text": [
      "Jumlah Data : 25000095\n",
      "Jumlah Fitur : 4\n",
      "Terdapat 4 Kolom Fitur pada Dataset yaitu:\n",
      "Fitur Data : ['userId', 'movieId', 'rating', 'timestamp']\n"
     ]
    },
    {
     "data": {
      "text/html": [
       "<div>\n",
       "<style scoped>\n",
       "    .dataframe tbody tr th:only-of-type {\n",
       "        vertical-align: middle;\n",
       "    }\n",
       "\n",
       "    .dataframe tbody tr th {\n",
       "        vertical-align: top;\n",
       "    }\n",
       "\n",
       "    .dataframe thead th {\n",
       "        text-align: right;\n",
       "    }\n",
       "</style>\n",
       "<table border=\"1\" class=\"dataframe\">\n",
       "  <thead>\n",
       "    <tr style=\"text-align: right;\">\n",
       "      <th></th>\n",
       "      <th>userId</th>\n",
       "      <th>movieId</th>\n",
       "      <th>rating</th>\n",
       "      <th>timestamp</th>\n",
       "    </tr>\n",
       "  </thead>\n",
       "  <tbody>\n",
       "    <tr>\n",
       "      <th>0</th>\n",
       "      <td>1</td>\n",
       "      <td>296</td>\n",
       "      <td>5.0</td>\n",
       "      <td>1147880044</td>\n",
       "    </tr>\n",
       "    <tr>\n",
       "      <th>1</th>\n",
       "      <td>1</td>\n",
       "      <td>306</td>\n",
       "      <td>3.5</td>\n",
       "      <td>1147868817</td>\n",
       "    </tr>\n",
       "    <tr>\n",
       "      <th>2</th>\n",
       "      <td>1</td>\n",
       "      <td>307</td>\n",
       "      <td>5.0</td>\n",
       "      <td>1147868828</td>\n",
       "    </tr>\n",
       "    <tr>\n",
       "      <th>3</th>\n",
       "      <td>1</td>\n",
       "      <td>665</td>\n",
       "      <td>5.0</td>\n",
       "      <td>1147878820</td>\n",
       "    </tr>\n",
       "    <tr>\n",
       "      <th>4</th>\n",
       "      <td>1</td>\n",
       "      <td>899</td>\n",
       "      <td>3.5</td>\n",
       "      <td>1147868510</td>\n",
       "    </tr>\n",
       "  </tbody>\n",
       "</table>\n",
       "</div>"
      ],
      "text/plain": [
       "   userId  movieId  rating   timestamp\n",
       "0       1      296     5.0  1147880044\n",
       "1       1      306     3.5  1147868817\n",
       "2       1      307     5.0  1147868828\n",
       "3       1      665     5.0  1147878820\n",
       "4       1      899     3.5  1147868510"
      ]
     },
     "execution_count": 13,
     "metadata": {},
     "output_type": "execute_result"
    }
   ],
   "source": [
    "print('Jumlah Data :', len(df2.iloc[:,1]))\n",
    "print('Jumlah Fitur :', len(df2.iloc[1,:]))\n",
    "print(f'Terdapat {len(df2.iloc[1,:])} Kolom Fitur pada Dataset yaitu:')\n",
    "print('Fitur Data :', df2.columns.tolist()[:])\n",
    "pd.options.display.max_columns = None\n",
    "df2.head()"
   ]
  },
  {
   "cell_type": "code",
   "execution_count": 14,
   "id": "e3c36abb",
   "metadata": {
    "execution": {
     "iopub.execute_input": "2025-04-12T16:05:22.399028Z",
     "iopub.status.busy": "2025-04-12T16:05:22.398799Z",
     "iopub.status.idle": "2025-04-12T16:05:22.628157Z",
     "shell.execute_reply": "2025-04-12T16:05:22.627126Z"
    },
    "papermill": {
     "duration": 0.239308,
     "end_time": "2025-04-12T16:05:22.629527",
     "exception": false,
     "start_time": "2025-04-12T16:05:22.390219",
     "status": "completed"
    },
    "tags": []
   },
   "outputs": [
    {
     "name": "stdout",
     "output_type": "stream",
     "text": [
      "   userId  movieId  rating\n",
      "0       1      296     5.0\n",
      "1       1      306     3.5\n",
      "2       1      307     5.0\n",
      "3       1      665     5.0\n",
      "4       1      899     3.5\n"
     ]
    }
   ],
   "source": [
    "# Drop timestamp column\n",
    "\n",
    "ratings_data = df2.drop(['timestamp'], axis=1)\n",
    "print(ratings_data.head())"
   ]
  },
  {
   "cell_type": "code",
   "execution_count": 15,
   "id": "63113be3",
   "metadata": {
    "execution": {
     "iopub.execute_input": "2025-04-12T16:05:22.644473Z",
     "iopub.status.busy": "2025-04-12T16:05:22.644212Z",
     "iopub.status.idle": "2025-04-12T16:05:32.333314Z",
     "shell.execute_reply": "2025-04-12T16:05:32.332455Z"
    },
    "papermill": {
     "duration": 9.697975,
     "end_time": "2025-04-12T16:05:32.334823",
     "exception": false,
     "start_time": "2025-04-12T16:05:22.636848",
     "status": "completed"
    },
    "tags": []
   },
   "outputs": [
    {
     "name": "stdout",
     "output_type": "stream",
     "text": [
      "Jumlah Missing Values per Kolom:\n",
      "userId       0\n",
      "movieId      0\n",
      "rating       0\n",
      "timestamp    0\n",
      "dtype: int64\n",
      "\n",
      "Jumlah Data Duplicates:\n",
      "0\n"
     ]
    }
   ],
   "source": [
    "# Melihat Missing Values\n",
    "\n",
    "print(\"Jumlah Missing Values per Kolom:\")\n",
    "print(df2.isnull().sum())\n",
    "print(\"\\nJumlah Data Duplicates:\")\n",
    "print(df2.duplicated().sum())"
   ]
  },
  {
   "cell_type": "code",
   "execution_count": 16,
   "id": "414f157a",
   "metadata": {
    "execution": {
     "iopub.execute_input": "2025-04-12T16:05:32.350329Z",
     "iopub.status.busy": "2025-04-12T16:05:32.350106Z",
     "iopub.status.idle": "2025-04-12T16:05:32.357749Z",
     "shell.execute_reply": "2025-04-12T16:05:32.356983Z"
    },
    "papermill": {
     "duration": 0.016671,
     "end_time": "2025-04-12T16:05:32.358917",
     "exception": false,
     "start_time": "2025-04-12T16:05:32.342246",
     "status": "completed"
    },
    "tags": []
   },
   "outputs": [
    {
     "name": "stdout",
     "output_type": "stream",
     "text": [
      "<class 'pandas.core.frame.DataFrame'>\n",
      "RangeIndex: 25000095 entries, 0 to 25000094\n",
      "Data columns (total 3 columns):\n",
      " #   Column   Dtype  \n",
      "---  ------   -----  \n",
      " 0   userId   int64  \n",
      " 1   movieId  int64  \n",
      " 2   rating   float64\n",
      "dtypes: float64(1), int64(2)\n",
      "memory usage: 572.2 MB\n"
     ]
    }
   ],
   "source": [
    "ratings_data.info()"
   ]
  },
  {
   "cell_type": "code",
   "execution_count": null,
   "id": "b5ca634b",
   "metadata": {
    "execution": {
     "iopub.execute_input": "2025-04-12T06:12:39.168466Z",
     "iopub.status.busy": "2025-04-12T06:12:39.168161Z",
     "iopub.status.idle": "2025-04-12T06:12:40.752626Z",
     "shell.execute_reply": "2025-04-12T06:12:40.751635Z",
     "shell.execute_reply.started": "2025-04-12T06:12:39.168441Z"
    },
    "papermill": {
     "duration": 0.006884,
     "end_time": "2025-04-12T16:05:32.372966",
     "exception": false,
     "start_time": "2025-04-12T16:05:32.366082",
     "status": "completed"
    },
    "tags": []
   },
   "outputs": [],
   "source": []
  },
  {
   "cell_type": "code",
   "execution_count": 17,
   "id": "a0986bb5",
   "metadata": {
    "execution": {
     "iopub.execute_input": "2025-04-12T16:05:32.387756Z",
     "iopub.status.busy": "2025-04-12T16:05:32.387533Z",
     "iopub.status.idle": "2025-04-12T16:05:33.792276Z",
     "shell.execute_reply": "2025-04-12T16:05:33.791221Z"
    },
    "papermill": {
     "duration": 1.413733,
     "end_time": "2025-04-12T16:05:33.793730",
     "exception": false,
     "start_time": "2025-04-12T16:05:32.379997",
     "status": "completed"
    },
    "tags": []
   },
   "outputs": [
    {
     "name": "stdout",
     "output_type": "stream",
     "text": [
      "Distribusi Rating:\n",
      "4.0    6639798\n",
      "3.0    4896928\n",
      "5.0    3612474\n",
      "3.5    3177318\n",
      "4.5    2200539\n",
      "2.0    1640868\n",
      "2.5    1262797\n",
      "1.0     776815\n",
      "1.5     399490\n",
      "0.5     393068\n",
      "Name: rating, dtype: int64\n",
      "\n",
      "Rating Rata-Rata per Film:\n",
      "movieId\n",
      "1    3.893708\n",
      "2    3.251527\n",
      "3    3.142028\n",
      "4    2.853547\n",
      "5    3.058434\n",
      "Name: rating, dtype: float64\n",
      "\n",
      "Rating Rata-Rata per Pengguna:\n",
      "userId\n",
      "1    3.814286\n",
      "2    3.630435\n",
      "3    3.697409\n",
      "4    3.378099\n",
      "5    3.752475\n",
      "Name: rating, dtype: float64\n"
     ]
    }
   ],
   "source": [
    "print(\"Distribusi Rating:\")\n",
    "print(df2['rating'].value_counts())\n",
    "print(\"\\nRating Rata-Rata per Film:\")\n",
    "print(df2.groupby('movieId')['rating'].mean().head())\n",
    "print(\"\\nRating Rata-Rata per Pengguna:\")\n",
    "print(df2.groupby('userId')['rating'].mean().head())"
   ]
  },
  {
   "cell_type": "code",
   "execution_count": 18,
   "id": "092a848c",
   "metadata": {
    "execution": {
     "iopub.execute_input": "2025-04-12T16:05:33.810239Z",
     "iopub.status.busy": "2025-04-12T16:05:33.809999Z",
     "iopub.status.idle": "2025-04-12T16:05:51.389158Z",
     "shell.execute_reply": "2025-04-12T16:05:51.388259Z"
    },
    "papermill": {
     "duration": 17.588649,
     "end_time": "2025-04-12T16:05:51.390591",
     "exception": false,
     "start_time": "2025-04-12T16:05:33.801942",
     "status": "completed"
    },
    "tags": []
   },
   "outputs": [
    {
     "data": {
      "image/png": "[encoded data removed]",
      "text/plain": [
       "<Figure size 800x600 with 1 Axes>"
      ]
     },
     "metadata": {},
     "output_type": "display_data"
    }
   ],
   "source": [
    "import seaborn as sns\n",
    "\n",
    "plt.figure(figsize=(8, 6))\n",
    "sns.histplot(df2['rating'], bins=5, kde=False, color='skyblue')\n",
    "plt.title('Distribusi Rating', fontsize=16)\n",
    "plt.xlabel('Rating', fontsize=14)\n",
    "plt.ylabel('Frekuensi', fontsize=14)\n",
    "plt.show()"
   ]
  },
  {
   "cell_type": "markdown",
   "id": "c793f787",
   "metadata": {
    "papermill": {
     "duration": 0.007384,
     "end_time": "2025-04-12T16:05:51.406892",
     "exception": false,
     "start_time": "2025-04-12T16:05:51.399508",
     "status": "completed"
    },
    "tags": []
   },
   "source": [
    "# MERGE 2 DATAFRAMES"
   ]
  },
  {
   "cell_type": "code",
   "execution_count": 19,
   "id": "436911e7",
   "metadata": {
    "execution": {
     "iopub.execute_input": "2025-04-12T16:05:51.423259Z",
     "iopub.status.busy": "2025-04-12T16:05:51.422917Z",
     "iopub.status.idle": "2025-04-12T16:06:00.742102Z",
     "shell.execute_reply": "2025-04-12T16:06:00.740976Z"
    },
    "papermill": {
     "duration": 9.32904,
     "end_time": "2025-04-12T16:06:00.743681",
     "exception": false,
     "start_time": "2025-04-12T16:05:51.414641",
     "status": "completed"
    },
    "tags": []
   },
   "outputs": [
    {
     "name": "stdout",
     "output_type": "stream",
     "text": [
      "   userId  movieId  rating              title  \\\n",
      "0       1      296     5.0  Pulp Fiction 1994   \n",
      "1       3      296     5.0  Pulp Fiction 1994   \n",
      "2       4      296     4.0  Pulp Fiction 1994   \n",
      "3       5      296     4.0  Pulp Fiction 1994   \n",
      "4       7      296     4.0  Pulp Fiction 1994   \n",
      "\n",
      "                             genres  \n",
      "0  [Comedy, Crime, Drama, Thriller]  \n",
      "1  [Comedy, Crime, Drama, Thriller]  \n",
      "2  [Comedy, Crime, Drama, Thriller]  \n",
      "3  [Comedy, Crime, Drama, Thriller]  \n",
      "4  [Comedy, Crime, Drama, Thriller]  \n"
     ]
    }
   ],
   "source": [
    "combined_data = ratings_data.merge(movies_data, on='movieId')\n",
    "print(combined_data.head())"
   ]
  },
  {
   "cell_type": "markdown",
   "id": "4de612c1",
   "metadata": {
    "papermill": {
     "duration": 0.00796,
     "end_time": "2025-04-12T16:06:00.759931",
     "exception": false,
     "start_time": "2025-04-12T16:06:00.751971",
     "status": "completed"
    },
    "tags": []
   },
   "source": [
    "Eksplorasi Dataset"
   ]
  },
  {
   "cell_type": "code",
   "execution_count": 20,
   "id": "5c23e976",
   "metadata": {
    "execution": {
     "iopub.execute_input": "2025-04-12T16:06:00.776148Z",
     "iopub.status.busy": "2025-04-12T16:06:00.775920Z",
     "iopub.status.idle": "2025-04-12T16:06:03.577995Z",
     "shell.execute_reply": "2025-04-12T16:06:03.576957Z"
    },
    "papermill": {
     "duration": 2.811916,
     "end_time": "2025-04-12T16:06:03.579647",
     "exception": false,
     "start_time": "2025-04-12T16:06:00.767731",
     "status": "completed"
    },
    "tags": []
   },
   "outputs": [
    {
     "name": "stdout",
     "output_type": "stream",
     "text": [
      "Top 10 Film dengan Rating Rata-Rata Tertinggi:\n",
      "title\n",
      "Keep My Grave Open 1976                    5.0\n",
      "The Ganzfeld Haunting 2014                 5.0\n",
      "The Fox in the Chicken Coop 1978           5.0\n",
      "Good Fortune 2009                          5.0\n",
      "Model Minority 2012                        5.0\n",
      "Good Morning TriState 2013                 5.0\n",
      "Amori che non sanno stare al mondo 2017    5.0\n",
      "Amore a prima vista 1999                   5.0\n",
      "You Must Be Joking 2014                    5.0\n",
      "Goodbye Boys 1964                          5.0\n",
      "Name: rating, dtype: float64\n"
     ]
    }
   ],
   "source": [
    "# Rating Rata-Rata per Film\n",
    "avg_ratings_per_movie = combined_data.groupby('title')['rating'].mean().sort_values(ascending=False)\n",
    "print(\"Top 10 Film dengan Rating Rata-Rata Tertinggi:\")\n",
    "print(avg_ratings_per_movie.head(10))"
   ]
  },
  {
   "cell_type": "code",
   "execution_count": 21,
   "id": "701e3bef",
   "metadata": {
    "execution": {
     "iopub.execute_input": "2025-04-12T16:06:03.598782Z",
     "iopub.status.busy": "2025-04-12T16:06:03.598531Z",
     "iopub.status.idle": "2025-04-12T16:06:06.292661Z",
     "shell.execute_reply": "2025-04-12T16:06:06.291711Z"
    },
    "papermill": {
     "duration": 2.704881,
     "end_time": "2025-04-12T16:06:06.294434",
     "exception": false,
     "start_time": "2025-04-12T16:06:03.589553",
     "status": "completed"
    },
    "tags": []
   },
   "outputs": [
    {
     "name": "stdout",
     "output_type": "stream",
     "text": [
      "Top 10 Film dengan Jumlah Rating Terbanyak:\n",
      "title\n",
      "Forrest Gump 1994                        81491\n",
      "Shawshank Redemption The 1994            81482\n",
      "Pulp Fiction 1994                        79672\n",
      "Silence of the Lambs The 1991            74127\n",
      "Matrix The 1999                          72674\n",
      "Star Wars Episode IV  A New Hope 1977    68717\n",
      "Jurassic Park 1993                       64144\n",
      "Schindlers List 1993                     60411\n",
      "Braveheart 1995                          59184\n",
      "Fight Club 1999                          58773\n",
      "Name: rating, dtype: int64\n"
     ]
    }
   ],
   "source": [
    "movie_rating_counts = combined_data.groupby('title')['rating'].count().sort_values(ascending=False)\n",
    "print(\"Top 10 Film dengan Jumlah Rating Terbanyak:\")\n",
    "print(movie_rating_counts.head(10))"
   ]
  },
  {
   "cell_type": "code",
   "execution_count": 22,
   "id": "bdad0719",
   "metadata": {
    "execution": {
     "iopub.execute_input": "2025-04-12T16:06:06.312420Z",
     "iopub.status.busy": "2025-04-12T16:06:06.312158Z",
     "iopub.status.idle": "2025-04-12T16:06:47.855435Z",
     "shell.execute_reply": "2025-04-12T16:06:47.854412Z"
    },
    "papermill": {
     "duration": 41.561195,
     "end_time": "2025-04-12T16:06:47.864306",
     "exception": false,
     "start_time": "2025-04-12T16:06:06.303111",
     "status": "completed"
    },
    "tags": []
   },
   "outputs": [
    {
     "name": "stdout",
     "output_type": "stream",
     "text": [
      "Jumlah Pengguna yang Memberi Rating pada Tiap Genre:\n",
      "genres\n",
      "Action         161975\n",
      "Adventure      161821\n",
      "Animation      140225\n",
      "Children       148391\n",
      "Comedy         162381\n",
      "Crime          160855\n",
      "Documentary     60393\n",
      "Drama          162519\n",
      "Fantasy        156809\n",
      "Film-Noir       67849\n",
      "Horror         141445\n",
      "IMAX           119012\n",
      "Musical        126133\n",
      "Mystery        152209\n",
      "Romance        161068\n",
      "Sci-Fi         160063\n",
      "Thriller       161948\n",
      "War            146905\n",
      "Western        110037\n",
      "Name: userId, dtype: int64\n",
      "\n",
      "Rata-Rata Rating per Genre:\n",
      "genres\n",
      "Action         3.466592\n",
      "Adventure      3.517445\n",
      "Animation      3.614946\n",
      "Children       3.432507\n",
      "Comedy         3.423993\n",
      "Crime          3.685044\n",
      "Documentary    3.705281\n",
      "Drama          3.677185\n",
      "Fantasy        3.511589\n",
      "Film-Noir      3.925728\n",
      "Horror         3.293563\n",
      "IMAX           3.603712\n",
      "Musical        3.554716\n",
      "Mystery        3.670169\n",
      "Romance        3.542712\n",
      "Sci-Fi         3.478143\n",
      "Thriller       3.522964\n",
      "War            3.791466\n",
      "Western        3.585755\n",
      "Name: rating, dtype: float64\n",
      "\n",
      "3 Film Terbaik di Tiap Genre:\n",
      "             genres                                   title    rating\n",
      "130          Action           A Police Inspector Calls 1974  5.000000\n",
      "269          Action                       Alien Rising 2013  5.000000\n",
      "280          Action              All Hell Breaks Loose 2014  5.000000\n",
      "6978      Adventure                    A Throw of Dice 1929  5.000000\n",
      "7092      Adventure               All Men Are Brothers 1975  5.000000\n",
      "7218      Adventure           Azit the Paratrooper Dog 1972  5.000000\n",
      "11336     Animation   Dashavatar  Every era has a hero 2008  5.000000\n",
      "11496     Animation              Elf Bowling the Movie 2007  5.000000\n",
      "11645     Animation            Garfield Goes Hollywood 1987  5.000000\n",
      "13732      Children                       A Gift Horse 2015  5.000000\n",
      "13921      Children                       Aschenputtel 2010  5.000000\n",
      "14141      Children            Carlos Spills the Beans 2014  5.000000\n",
      "16660        Comedy                          2nd Serve 2013  5.000000\n",
      "16814        Comedy                    A Holiday Heist 2011  5.000000\n",
      "16828        Comedy                      A Lustful Man 1961  5.000000\n",
      "32680         Crime           A Police Inspector Calls 1974  5.000000\n",
      "32767         Crime                               Alto 2015  5.000000\n",
      "32777         Crime                     American Bully 2009  5.000000\n",
      "37686   Documentary                     9 Dalmuir West 1962  5.000000\n",
      "37698   Documentary                 A Blank on the Map 1971  5.000000\n",
      "37876   Documentary                Always a Bridesmaid 2000  5.000000\n",
      "43195         Drama                                  2 2007  5.000000\n",
      "43253         Drama                          2nd Serve 2013  5.000000\n",
      "43482         Drama                        A Fine Step 2014  5.000000\n",
      "67545       Fantasy                   A Matter of Time 1976  5.000000\n",
      "67647       Fantasy           Ana Maria in Novela Land 2015  5.000000\n",
      "67684       Fantasy                       Aschenputtel 2010  5.000000\n",
      "70454     Film-Noir   Sunset Blvd aka Sunset Boulevard 1950  4.206501\n",
      "70475     Film-Noir                      Third Man The 1949  4.201487\n",
      "70268     Film-Noir                   Double Indemnity 1944  4.194023\n",
      "70712        Horror              All Hell Breaks Loose 2014  5.000000\n",
      "70976        Horror                   Beautiful People 2014  5.000000\n",
      "71041        Horror                 Bigfoot vs Zombies 2016  5.000000\n",
      "76291          IMAX                    Dark Knight The 2008  4.166538\n",
      "76340          IMAX                          Inception 2010  4.155508\n",
      "76341          IMAX                       Interstellar 2014  4.097928\n",
      "76959       Musical                    Latin Music USA 2009  5.000000\n",
      "76642       Musical           Comin Round the Mountain 1951  4.750000\n",
      "76764       Musical                 For the First Time 1959  4.500000\n",
      "77524       Mystery                  A Sisters Revenge 2013  5.000000\n",
      "77664       Mystery                       August Falls 2017  5.000000\n",
      "77770       Mystery                         Blind Turn 2012  5.000000\n",
      "80339       Romance                       9 Full Moons 2013  5.000000\n",
      "80380       Romance                    A Holiday Heist 2011  5.000000\n",
      "80394       Romance             A Love Affair of Sorts 2011  5.000000\n",
      "87557        Sci-Fi                         10000 Days 2014  5.000000\n",
      "87718        Sci-Fi                       Alien Rising 2013  5.000000\n",
      "87883        Sci-Fi                             Awaken 2013  5.000000\n",
      "91226      Thriller                  A Job to Kill For 2006  5.000000\n",
      "91244      Thriller           A Police Inspector Calls 1974  5.000000\n",
      "91253      Thriller                  A Sisters Revenge 2013  5.000000\n",
      "99796           War                   Desert Commandos 1966  5.000000\n",
      "99898           War                      Five for Hell 1969  5.000000\n",
      "99947           War  From Here To Eternity The Musical 2014  5.000000\n",
      "101192      Western  Ambush at Dark Canyon Dark Canyon 2012  5.000000\n",
      "101357      Western                   Cheyenne Warrior 1994  5.000000\n",
      "101370      Western                           Clearcut 1991  5.000000\n"
     ]
    }
   ],
   "source": [
    "# Memisahkan Genre\n",
    "exploded_data = combined_data.explode('genres')\n",
    "\n",
    "# Menghitung Jumlah Pengguna yang Memberi Rating pada Tiap Genre\n",
    "users_per_genre = exploded_data.groupby('genres')['userId'].nunique()\n",
    "\n",
    "# Rata Rata Rating di Tiap Genre\n",
    "avg_rating_per_genre = exploded_data.groupby('genres')['rating'].mean()\n",
    "\n",
    "# Cari 3 film terbaik berdasarkan rating rata-rata di tiap genre\n",
    "top_movies_per_genre = (\n",
    "    exploded_data.groupby(['genres', 'title'])['rating']\n",
    "    .mean()\n",
    "    .reset_index()\n",
    "    .sort_values(['genres', 'rating'], ascending=[True, False])\n",
    "    .groupby('genres')\n",
    "    .head(3)\n",
    ")\n",
    "\n",
    "print(\"Jumlah Pengguna yang Memberi Rating pada Tiap Genre:\")\n",
    "print(users_per_genre)\n",
    "print(\"\\nRata-Rata Rating per Genre:\")\n",
    "print(avg_rating_per_genre)\n",
    "print(\"\\n3 Film Terbaik di Tiap Genre:\")\n",
    "print(top_movies_per_genre)"
   ]
  },
  {
   "cell_type": "markdown",
   "id": "8b2191e9",
   "metadata": {
    "papermill": {
     "duration": 0.00761,
     "end_time": "2025-04-12T16:06:47.879954",
     "exception": false,
     "start_time": "2025-04-12T16:06:47.872344",
     "status": "completed"
    },
    "tags": []
   },
   "source": [
    "# PEMBUATAN MODEL TF-IDF"
   ]
  },
  {
   "cell_type": "code",
   "execution_count": 23,
   "id": "9fe74256",
   "metadata": {
    "execution": {
     "iopub.execute_input": "2025-04-12T16:06:47.896959Z",
     "iopub.status.busy": "2025-04-12T16:06:47.896690Z",
     "iopub.status.idle": "2025-04-12T16:06:49.062956Z",
     "shell.execute_reply": "2025-04-12T16:06:49.061886Z"
    },
    "papermill": {
     "duration": 1.176499,
     "end_time": "2025-04-12T16:06:49.064624",
     "exception": false,
     "start_time": "2025-04-12T16:06:47.888125",
     "status": "completed"
    },
    "tags": []
   },
   "outputs": [
    {
     "name": "stdout",
     "output_type": "stream",
     "text": [
      "       movieId                             title                    genres\n",
      "21199   109487                 Interstellar 2014            [Sci-Fi, IMAX]\n",
      "60773   204120  The Science of Interstellar 2014             [Documentary]\n",
      "19130    99663                 Visitors The 1972  [Crime, Drama, Thriller]\n",
      "19132    99667         Excuse Me for Living 2012         [Comedy, Romance]\n",
      "19129    99659             Sea of Grass The 1947          [Drama, Western]\n"
     ]
    }
   ],
   "source": [
    "from sklearn.feature_extraction.text import TfidfVectorizer\n",
    "from sklearn.metrics.pairwise import cosine_similarity\n",
    "\n",
    "vectorizer_title = TfidfVectorizer(ngram_range=(1,2))\n",
    "\n",
    "tfidf_title = vectorizer_title.fit_transform(movies_data['title'])\n",
    "\n",
    "def search_by_title(title):\n",
    "    title = clean_title(title)\n",
    "    query_vec = vectorizer_title.transform([title])\n",
    "    similarity = cosine_similarity(query_vec, tfidf_title).flatten()\n",
    "    indices = np.argpartition(similarity, -5)[-5:]\n",
    "    results = movies_data.iloc[indices][::-1]\n",
    "    return results\n",
    "\n",
    "movie_results = search_by_title(\"Interstellar\")\n",
    "print(movie_results)"
   ]
  },
  {
   "cell_type": "markdown",
   "id": "a807c077",
   "metadata": {
    "papermill": {
     "duration": 0.008156,
     "end_time": "2025-04-12T16:06:49.081953",
     "exception": false,
     "start_time": "2025-04-12T16:06:49.073797",
     "status": "completed"
    },
    "tags": []
   },
   "source": [
    "Menggunakan TF-IDF untuk mencari 5 movies dengan judul yang mirip"
   ]
  },
  {
   "cell_type": "code",
   "execution_count": 24,
   "id": "1c554cf5",
   "metadata": {
    "execution": {
     "iopub.execute_input": "2025-04-12T16:06:49.098615Z",
     "iopub.status.busy": "2025-04-12T16:06:49.098329Z",
     "iopub.status.idle": "2025-04-12T16:06:49.117895Z",
     "shell.execute_reply": "2025-04-12T16:06:49.116833Z"
    },
    "papermill": {
     "duration": 0.029957,
     "end_time": "2025-04-12T16:06:49.119846",
     "exception": false,
     "start_time": "2025-04-12T16:06:49.089889",
     "status": "completed"
    },
    "tags": []
   },
   "outputs": [
    {
     "name": "stdout",
     "output_type": "stream",
     "text": [
      "       movieId                                             title  \\\n",
      "13226    67923     Fast  Furious Fast and the Furious 4 The 2009   \n",
      "4264      4369                     Fast and the Furious The 2001   \n",
      "19769   102716   Fast  Furious 6 Fast and the Furious 6 The 2013   \n",
      "6264      6383  2 Fast 2 Furious Fast and the Furious 2 The 2003   \n",
      "13528    69945                     Fast and the Furious The 1955   \n",
      "\n",
      "                                 genres  \n",
      "13226  [Action, Crime, Drama, Thriller]  \n",
      "4264          [Action, Crime, Thriller]  \n",
      "19769   [Action, Crime, Thriller, IMAX]  \n",
      "6264          [Action, Crime, Thriller]  \n",
      "13528                  [Crime, Mystery]  \n"
     ]
    }
   ],
   "source": [
    "def search_by_title(title):\n",
    "    title = clean_title(title)\n",
    "    query_vec = vectorizer_title.transform([title])\n",
    "    similarity = cosine_similarity(query_vec, tfidf_title).flatten()\n",
    "    indices = np.argpartition(similarity, -5)[-5:]\n",
    "    results = movies_data.iloc[indices][::-1]\n",
    "    return results\n",
    "\n",
    "movie_results = search_by_title(\"Fast and Furious\")\n",
    "print(movie_results)"
   ]
  },
  {
   "cell_type": "markdown",
   "id": "d7333584",
   "metadata": {
    "papermill": {
     "duration": 0.008262,
     "end_time": "2025-04-12T16:06:49.137703",
     "exception": false,
     "start_time": "2025-04-12T16:06:49.129441",
     "status": "completed"
    },
    "tags": []
   },
   "source": [
    "Mencari movies dengan genre yang mirip"
   ]
  },
  {
   "cell_type": "code",
   "execution_count": 25,
   "id": "3ec78a76",
   "metadata": {
    "execution": {
     "iopub.execute_input": "2025-04-12T16:06:49.154670Z",
     "iopub.status.busy": "2025-04-12T16:06:49.154430Z",
     "iopub.status.idle": "2025-04-12T16:06:49.486007Z",
     "shell.execute_reply": "2025-04-12T16:06:49.484845Z"
    },
    "papermill": {
     "duration": 0.341704,
     "end_time": "2025-04-12T16:06:49.487452",
     "exception": false,
     "start_time": "2025-04-12T16:06:49.145748",
     "status": "completed"
    },
    "tags": []
   },
   "outputs": [
    {
     "name": "stdout",
     "output_type": "stream",
     "text": [
      "       movieId                                              title  \\\n",
      "32201   140401                  The Black Shield Of Falworth 1954   \n",
      "42776   164604                                         Kicks 2016   \n",
      "29028   133007                   Temple of a Thousand Lights 1965   \n",
      "29025   133001                     The Spy Who Loved Flowers 1966   \n",
      "43085   165249                                        Bagdad 1949   \n",
      "43246   165599                                      Hayabusa 2011   \n",
      "28905   132743                              The Lost Volcano 1950   \n",
      "29032   133015                            Sandokan the Great 1963   \n",
      "28648   132169  Time Traveller The Girl Who Leapt Through Time...   \n",
      "27716   129990                                Sergeant Klems 1971   \n",
      "\n",
      "            genres genres_text  \n",
      "32201  [Adventure]   Adventure  \n",
      "42776  [Adventure]   Adventure  \n",
      "29028  [Adventure]   Adventure  \n",
      "29025  [Adventure]   Adventure  \n",
      "43085  [Adventure]   Adventure  \n",
      "43246  [Adventure]   Adventure  \n",
      "28905  [Adventure]   Adventure  \n",
      "29032  [Adventure]   Adventure  \n",
      "28648  [Adventure]   Adventure  \n",
      "27716  [Adventure]   Adventure  \n"
     ]
    }
   ],
   "source": [
    "vectorizer_genres = TfidfVectorizer(ngram_range=(1,2))\n",
    "\n",
    "# Gabungkan genre list menjadi string\n",
    "movies_data['genres_text'] = movies_data['genres'].apply(lambda x: ' '.join(x))\n",
    "\n",
    "tfidf_genres = vectorizer_genres.fit_transform(movies_data['genres_text'])\n",
    "\n",
    "def search_similar_genres(genres):\n",
    "    query_vec = vectorizer_genres.transform([genres])\n",
    "    similarity = cosine_similarity(query_vec, tfidf_genres).flatten()\n",
    "    indices = np.argpartition(similarity, -10)[-10:]\n",
    "    results = movies_data.iloc[indices][::-1]\n",
    "    return results\n",
    "\n",
    "gen = 'Adventure Action'\n",
    "print(search_similar_genres(gen))"
   ]
  },
  {
   "cell_type": "markdown",
   "id": "e31a2aa1",
   "metadata": {
    "papermill": {
     "duration": 0.008678,
     "end_time": "2025-04-12T16:06:49.504814",
     "exception": false,
     "start_time": "2025-04-12T16:06:49.496136",
     "status": "completed"
    },
    "tags": []
   },
   "source": [
    "# CALCULATE SCORE"
   ]
  },
  {
   "cell_type": "code",
   "execution_count": 26,
   "id": "28f7de5f",
   "metadata": {
    "execution": {
     "iopub.execute_input": "2025-04-12T16:06:49.522731Z",
     "iopub.status.busy": "2025-04-12T16:06:49.522463Z",
     "iopub.status.idle": "2025-04-12T16:06:51.115788Z",
     "shell.execute_reply": "2025-04-12T16:06:51.114893Z"
    },
    "papermill": {
     "duration": 1.604162,
     "end_time": "2025-04-12T16:06:51.117296",
     "exception": false,
     "start_time": "2025-04-12T16:06:49.513134",
     "status": "completed"
    },
    "tags": []
   },
   "outputs": [
    {
     "data": {
      "text/html": [
       "<div>\n",
       "<style scoped>\n",
       "    .dataframe tbody tr th:only-of-type {\n",
       "        vertical-align: middle;\n",
       "    }\n",
       "\n",
       "    .dataframe tbody tr th {\n",
       "        vertical-align: top;\n",
       "    }\n",
       "\n",
       "    .dataframe thead th {\n",
       "        text-align: right;\n",
       "    }\n",
       "</style>\n",
       "<table border=\"1\" class=\"dataframe\">\n",
       "  <thead>\n",
       "    <tr style=\"text-align: right;\">\n",
       "      <th></th>\n",
       "      <th>similar</th>\n",
       "      <th>all</th>\n",
       "      <th>score</th>\n",
       "    </tr>\n",
       "  </thead>\n",
       "  <tbody>\n",
       "    <tr>\n",
       "      <th>115879</th>\n",
       "      <td>8.366523e-06</td>\n",
       "      <td>1.449568e-06</td>\n",
       "      <td>5.771735</td>\n",
       "    </tr>\n",
       "    <tr>\n",
       "      <th>186177</th>\n",
       "      <td>1.476445e-06</td>\n",
       "      <td>2.899136e-07</td>\n",
       "      <td>5.092707</td>\n",
       "    </tr>\n",
       "    <tr>\n",
       "      <th>114240</th>\n",
       "      <td>1.476445e-06</td>\n",
       "      <td>2.899136e-07</td>\n",
       "      <td>5.092707</td>\n",
       "    </tr>\n",
       "    <tr>\n",
       "      <th>209121</th>\n",
       "      <td>3.280990e-07</td>\n",
       "      <td>8.053157e-08</td>\n",
       "      <td>4.074166</td>\n",
       "    </tr>\n",
       "    <tr>\n",
       "      <th>134160</th>\n",
       "      <td>3.280990e-07</td>\n",
       "      <td>8.053157e-08</td>\n",
       "      <td>4.074166</td>\n",
       "    </tr>\n",
       "    <tr>\n",
       "      <th>...</th>\n",
       "      <td>...</td>\n",
       "      <td>...</td>\n",
       "      <td>...</td>\n",
       "    </tr>\n",
       "    <tr>\n",
       "      <th>853</th>\n",
       "      <td>3.280990e-07</td>\n",
       "      <td>3.543389e-06</td>\n",
       "      <td>0.092595</td>\n",
       "    </tr>\n",
       "    <tr>\n",
       "      <th>601</th>\n",
       "      <td>3.280990e-07</td>\n",
       "      <td>3.704452e-06</td>\n",
       "      <td>0.088569</td>\n",
       "    </tr>\n",
       "    <tr>\n",
       "      <th>797</th>\n",
       "      <td>3.280990e-07</td>\n",
       "      <td>3.865515e-06</td>\n",
       "      <td>0.084878</td>\n",
       "    </tr>\n",
       "    <tr>\n",
       "      <th>1075</th>\n",
       "      <td>3.280990e-07</td>\n",
       "      <td>4.429236e-06</td>\n",
       "      <td>0.074076</td>\n",
       "    </tr>\n",
       "    <tr>\n",
       "      <th>706</th>\n",
       "      <td>3.280990e-07</td>\n",
       "      <td>5.717741e-06</td>\n",
       "      <td>0.057383</td>\n",
       "    </tr>\n",
       "  </tbody>\n",
       "</table>\n",
       "<p>25673 rows × 3 columns</p>\n",
       "</div>"
      ],
      "text/plain": [
       "             similar           all     score\n",
       "115879  8.366523e-06  1.449568e-06  5.771735\n",
       "186177  1.476445e-06  2.899136e-07  5.092707\n",
       "114240  1.476445e-06  2.899136e-07  5.092707\n",
       "209121  3.280990e-07  8.053157e-08  4.074166\n",
       "134160  3.280990e-07  8.053157e-08  4.074166\n",
       "...              ...           ...       ...\n",
       "853     3.280990e-07  3.543389e-06  0.092595\n",
       "601     3.280990e-07  3.704452e-06  0.088569\n",
       "797     3.280990e-07  3.865515e-06  0.084878\n",
       "1075    3.280990e-07  4.429236e-06  0.074076\n",
       "706     3.280990e-07  5.717741e-06  0.057383\n",
       "\n",
       "[25673 rows x 3 columns]"
      ]
     },
     "execution_count": 26,
     "metadata": {},
     "output_type": "execute_result"
    }
   ],
   "source": [
    "def scores_calculator(movie_id):\n",
    "    # Filter data untuk pengguna serupa\n",
    "    similar_users = combined_data.loc[\n",
    "        (combined_data['movieId'] == movie_id) & (combined_data['rating'] >= 4), 'userId'\n",
    "    ].unique()\n",
    "\n",
    "    # Dapatkan rekomendasi berdasarkan pengguna serupa\n",
    "    similar_user_recs = combined_data.loc[\n",
    "        (combined_data['userId'].isin(similar_users)) & (combined_data['rating'] >= 4), 'movieId'\n",
    "    ].value_counts(normalize=True)\n",
    "\n",
    "    # Dapatkan rekomendasi berdasarkan semua pengguna\n",
    "    all_user_recs = combined_data.loc[\n",
    "        combined_data['movieId'].isin(similar_user_recs.index) & (combined_data['rating'] >= 4)\n",
    "    ]\n",
    "    all_user_recs = all_user_recs['movieId'].value_counts(normalize=True)\n",
    "\n",
    "    # Filter genre dari film yang dipilih\n",
    "    selected_genres = combined_data.loc[combined_data['movieId'] == movie_id, 'genres'].iloc[0]\n",
    "    if isinstance(selected_genres, list):\n",
    "        selected_genres = \" \".join(selected_genres)\n",
    "\n",
    "    # Cari film dengan genre serupa\n",
    "    movies_with_similar_genres = search_similar_genres(selected_genres)\n",
    "    similar_genre_ids = movies_with_similar_genres['movieId']\n",
    "\n",
    "    # Kalikan skor berdasarkan genre serupa\n",
    "    similar_user_recs.loc[similar_user_recs.index.isin(similar_genre_ids)] *= 1.5\n",
    "    all_user_recs.loc[all_user_recs.index.isin(similar_genre_ids)] *= 0.9\n",
    "\n",
    "    # Gabungkan skor dan hitung peringkat\n",
    "    scores = pd.DataFrame({\n",
    "        'similar': similar_user_recs,\n",
    "        'all': all_user_recs\n",
    "    }).fillna(0)\n",
    "\n",
    "    # Hindari pembagian nol\n",
    "    scores['score'] = np.where(scores['all'] > 0, scores['similar'] / scores['all'], 0)\n",
    "\n",
    "    # Urutkan berdasarkan skor tertinggi\n",
    "    return scores.sort_values('score', ascending=False)\n",
    "\n",
    "scores_calculator(3114)"
   ]
  },
  {
   "cell_type": "markdown",
   "id": "3d3983b2",
   "metadata": {
    "papermill": {
     "duration": 0.0084,
     "end_time": "2025-04-12T16:06:51.134846",
     "exception": false,
     "start_time": "2025-04-12T16:06:51.126446",
     "status": "completed"
    },
    "tags": []
   },
   "source": [
    "# RECOMMENDATION RESULT"
   ]
  },
  {
   "cell_type": "code",
   "execution_count": 27,
   "id": "de72a6c4",
   "metadata": {
    "execution": {
     "iopub.execute_input": "2025-04-12T16:06:51.152779Z",
     "iopub.status.busy": "2025-04-12T16:06:51.152540Z",
     "iopub.status.idle": "2025-04-12T16:06:52.831744Z",
     "shell.execute_reply": "2025-04-12T16:06:52.830698Z"
    },
    "papermill": {
     "duration": 1.689752,
     "end_time": "2025-04-12T16:06:52.833115",
     "exception": false,
     "start_time": "2025-04-12T16:06:51.143363",
     "status": "completed"
    },
    "tags": []
   },
   "outputs": [
    {
     "name": "stdout",
     "output_type": "stream",
     "text": [
      "Here a similar movies: \n",
      "0 :  Interstellar 2014\n",
      "1 :  The Science of Interstellar 2014\n",
      "2 :  Visitors The 1972\n",
      "3 :  Excuse Me for Living 2012\n",
      "4 :  Sea of Grass The 1947\n",
      "Recommendation_results: \n",
      "                                      title     score  \\\n",
      "21199                     Interstellar 2014  9.329121   \n",
      "21495                    Transcendence 2014  7.077710   \n",
      "19891                          Elysium 2013  6.458622   \n",
      "20247                          Gravity 2013  6.082041   \n",
      "21691                 Edge of Tomorrow 2014  6.047429   \n",
      "27329               Saban Son of Saban 1977  5.597472   \n",
      "24292                         McCullin 2012  5.597472   \n",
      "53804                           The Factory  5.597472   \n",
      "28412  The Great American Girl Robbery 1979  5.597472   \n",
      "28403                        Lily  Kat 2015  5.597472   \n",
      "\n",
      "                              genres  \n",
      "21199                 [Sci-Fi, IMAX]  \n",
      "21495          [Drama, Sci-Fi, IMAX]  \n",
      "19891  [Action, Drama, Sci-Fi, IMAX]  \n",
      "20247         [Action, Sci-Fi, IMAX]  \n",
      "21691         [Action, Sci-Fi, IMAX]  \n",
      "27329       [Comedy, Crime, Mystery]  \n",
      "24292                  [Documentary]  \n",
      "53804                     [Thriller]  \n",
      "28412                [Comedy, Crime]  \n",
      "28403                [Comedy, Drama]  \n"
     ]
    }
   ],
   "source": [
    "def recommendation_results(user_input, title=0):\n",
    "    # user_input = clean_title(user_input)\n",
    "    title_candidates = search_by_title(user_input)\n",
    "    movie_id = title_candidates.iloc[title]['movieId']\n",
    "    scores = scores_calculator(movie_id)\n",
    "    results = scores.head(10).merge(movies_data, left_index=True, right_on='movieId')[['title', 'score', 'genres']]\n",
    "    resutls = results.rename(columns={'title': 'title', 'genres': 'genres'}, inplace=True)\n",
    "    return results\n",
    "\n",
    "user_input = \"Interstellar\"\n",
    "print(\"Here a similar movies: \")\n",
    "for i in range(5):\n",
    "    print(i, \": \", search_by_title(user_input)['title'].iloc[i])\n",
    "\n",
    "title = 0\n",
    "print(\"Recommendation_results: \")\n",
    "print(recommendation_results(user_input))"
   ]
  },
  {
   "cell_type": "code",
   "execution_count": null,
   "id": "b7dd09f4",
   "metadata": {
    "papermill": {
     "duration": 0.008783,
     "end_time": "2025-04-12T16:06:52.851398",
     "exception": false,
     "start_time": "2025-04-12T16:06:52.842615",
     "status": "completed"
    },
    "tags": []
   },
   "outputs": [],
   "source": []
  },
  {
   "cell_type": "code",
   "execution_count": null,
   "id": "3e0c447e",
   "metadata": {},
   "outputs": [],
   "source": []
  }
 ],
 "metadata": {
  "kaggle": {
   "accelerator": "nvidiaTeslaT4",
   "dataSources": [
    {
     "datasetId": 3375918,
     "sourceId": 5872805,
     "sourceType": "datasetVersion"
    }
   ],
   "dockerImageVersionId": 30840,
   "isGpuEnabled": true,
   "isInternetEnabled": true,
   "language": "python",
   "sourceType": "notebook"
  },
  "kernelspec": {
   "display_name": "Python 3 (ipykernel)",
   "language": "python",
   "name": "python3"
  },
  "language_info": {
   "codemirror_mode": {
    "name": "ipython",
    "version": 3
   },
   "file_extension": ".py",
   "mimetype": "text/x-python",
   "name": "python",
   "nbconvert_exporter": "python",
   "pygments_lexer": "ipython3",
   "version": "3.10.9"
  },
  "papermill": {
   "default_parameters": {},
   "duration": 110.12168,
   "end_time": "2025-04-12T16:06:53.980975",
   "environment_variables": {},
   "exception": null,
   "input_path": "__notebook__.ipynb",
   "output_path": "__notebook__.ipynb",
   "parameters": {},
   "start_time": "2025-04-12T16:05:03.859295",
   "version": "2.6.0"
  }
 },
 "nbformat": 4,
 "nbformat_minor": 5
}
